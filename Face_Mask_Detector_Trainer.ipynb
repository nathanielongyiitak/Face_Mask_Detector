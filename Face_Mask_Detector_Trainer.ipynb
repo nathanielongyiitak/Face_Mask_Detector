{
 "cells": [
  {
   "cell_type": "code",
   "execution_count": 1,
   "id": "cf44ff3a",
   "metadata": {},
   "outputs": [],
   "source": [
    "# Import the necessary packages\n",
    "from tensorflow.keras.preprocessing.image import ImageDataGenerator\n",
    "from tensorflow.keras.applications import MobileNetV2\n",
    "from tensorflow.keras.layers import AveragePooling2D\n",
    "from tensorflow.keras.layers import Dropout\n",
    "from tensorflow.keras.layers import Flatten\n",
    "from tensorflow.keras.layers import Dense\n",
    "from tensorflow.keras.layers import Input\n",
    "from tensorflow.keras.models import Model\n",
    "from tensorflow.keras.optimizers import Adam\n",
    "from tensorflow.keras.applications.mobilenet_v2 import preprocess_input\n",
    "from tensorflow.keras.preprocessing.image import img_to_array\n",
    "from tensorflow.keras.preprocessing.image import load_img\n",
    "from tensorflow.keras.utils import to_categorical\n",
    "from sklearn.preprocessing import LabelBinarizer\n",
    "from sklearn.model_selection import train_test_split\n",
    "from sklearn.metrics import classification_report\n",
    "from imutils import paths\n",
    "import matplotlib.pyplot as plt\n",
    "import numpy as np\n",
    "import os"
   ]
  },
  {
   "cell_type": "code",
   "execution_count": 2,
   "id": "443b6285",
   "metadata": {},
   "outputs": [],
   "source": [
    "# Initialize the initial learning rate, number of epochs to train for,\n",
    "# and the batch size\n",
    "INIT_LR = 1e-4\n",
    "EPOCHS = 20\n",
    "BS = 32\n",
    "\n",
    "DIRECTORY = \"Dataset\"\n",
    "CATEGORIES = [\"With_Face_Mask\", \"Without_Face_Mask\"]"
   ]
  },
  {
   "cell_type": "code",
   "execution_count": 3,
   "id": "734ae036",
   "metadata": {},
   "outputs": [
    {
     "name": "stdout",
     "output_type": "stream",
     "text": [
      "Loading images...\n"
     ]
    }
   ],
   "source": [
    "# Grab the list of images in our dataset directory, then initialize\n",
    "# the list of data (i.e., images) and class images\n",
    "print(\"Loading images...\")\n",
    "\n",
    "data = []\n",
    "labels = []\n",
    "\n",
    "for category in CATEGORIES:\n",
    "    path = os.path.join(DIRECTORY, category)\n",
    "    for img in os.listdir(path):\n",
    "        img_path = os.path.join(path, img)\n",
    "        image = load_img(img_path, target_size=(224, 224))\n",
    "        image = img_to_array(image)\n",
    "        image = preprocess_input(image)\n",
    "\n",
    "        data.append(image)\n",
    "        labels.append(category)"
   ]
  },
  {
   "cell_type": "code",
   "execution_count": 4,
   "id": "30684802",
   "metadata": {},
   "outputs": [],
   "source": [
    "# Perform one-hot encoding on the labels\n",
    "lb = LabelBinarizer()\n",
    "labels = lb.fit_transform(labels)\n",
    "labels = to_categorical(labels)\n",
    "\n",
    "data = np.array(data, dtype=\"float32\")\n",
    "labels = np.array(labels)\n",
    "\n",
    "(trainX, testX, trainY, testY) = train_test_split(data, labels,\n",
    "    test_size=0.20, stratify=labels, random_state=42)"
   ]
  },
  {
   "cell_type": "code",
   "execution_count": 5,
   "id": "b9de6418",
   "metadata": {},
   "outputs": [],
   "source": [
    "# Construct the training image generator for data augmentation\n",
    "aug = ImageDataGenerator(\n",
    "    rotation_range=20,\n",
    "    zoom_range=0.15,\n",
    "    width_shift_range=0.2,\n",
    "    height_shift_range=0.2,\n",
    "    shear_range=0.15,\n",
    "    horizontal_flip=True,\n",
    "    fill_mode=\"nearest\")"
   ]
  },
  {
   "cell_type": "code",
   "execution_count": 6,
   "id": "81932f28",
   "metadata": {},
   "outputs": [
    {
     "name": "stdout",
     "output_type": "stream",
     "text": [
      "WARNING:tensorflow:`input_shape` is undefined or non-square, or `rows` is not in [96, 128, 160, 192, 224]. Weights for input shape (224, 224) will be loaded as the default.\n"
     ]
    }
   ],
   "source": [
    "# Load the MobileNetV2 network, ensuring the head FC layer sets are\n",
    "# left off\n",
    "baseModel = MobileNetV2(weights=\"imagenet\", include_top=False,\n",
    "    input_tensor=Input(shape=(224, 224, 3)))"
   ]
  },
  {
   "cell_type": "code",
   "execution_count": 7,
   "id": "b559790b",
   "metadata": {},
   "outputs": [],
   "source": [
    "# Construct the head of the model that will be placed on top of the\n",
    "# the base model\n",
    "headModel = baseModel.output\n",
    "headModel = AveragePooling2D(pool_size=(7, 7))(headModel)\n",
    "headModel = Flatten(name=\"flatten\")(headModel)\n",
    "headModel = Dense(128, activation=\"relu\")(headModel)\n",
    "headModel = Dropout(0.5)(headModel)\n",
    "headModel = Dense(2, activation=\"softmax\")(headModel)"
   ]
  },
  {
   "cell_type": "code",
   "execution_count": 8,
   "id": "a1e3ec58",
   "metadata": {},
   "outputs": [],
   "source": [
    "# Place the head FC model on top of the base model (this will become\n",
    "# the actual model we will train)\n",
    "model = Model(inputs=baseModel.input, outputs=headModel)"
   ]
  },
  {
   "cell_type": "code",
   "execution_count": 9,
   "id": "afc3cb7e",
   "metadata": {},
   "outputs": [],
   "source": [
    "# Loop over all layers in the base model and freeze them so they will\n",
    "# not be updated during the first training process\n",
    "for layer in baseModel.layers:\n",
    "    layer.trainable = False"
   ]
  },
  {
   "cell_type": "code",
   "execution_count": 10,
   "id": "582463e4",
   "metadata": {},
   "outputs": [
    {
     "name": "stdout",
     "output_type": "stream",
     "text": [
      "Compiling model...\n"
     ]
    }
   ],
   "source": [
    "# Compile model\n",
    "print(\"Compiling model...\")\n",
    "opt = Adam(learning_rate=INIT_LR, decay=INIT_LR / EPOCHS)\n",
    "model.compile(loss=\"binary_crossentropy\", optimizer=opt,\n",
    "    metrics=[\"accuracy\"])"
   ]
  },
  {
   "cell_type": "code",
   "execution_count": 11,
   "id": "854cba13",
   "metadata": {},
   "outputs": [
    {
     "name": "stdout",
     "output_type": "stream",
     "text": [
      "Training head...\n",
      "Epoch 1/20\n",
      "48/48 [==============================] - 20s 391ms/step - loss: 0.3872 - accuracy: 0.8639 - val_loss: 0.1113 - val_accuracy: 0.9974\n",
      "Epoch 2/20\n",
      "48/48 [==============================] - 18s 383ms/step - loss: 0.1054 - accuracy: 0.9889 - val_loss: 0.0347 - val_accuracy: 1.0000\n",
      "Epoch 3/20\n",
      "48/48 [==============================] - 20s 423ms/step - loss: 0.0525 - accuracy: 0.9941 - val_loss: 0.0189 - val_accuracy: 1.0000\n",
      "Epoch 4/20\n",
      "48/48 [==============================] - 20s 425ms/step - loss: 0.0437 - accuracy: 0.9928 - val_loss: 0.0133 - val_accuracy: 1.0000\n",
      "Epoch 5/20\n",
      "48/48 [==============================] - 20s 421ms/step - loss: 0.0393 - accuracy: 0.9921 - val_loss: 0.0083 - val_accuracy: 1.0000\n",
      "Epoch 6/20\n",
      "48/48 [==============================] - 21s 429ms/step - loss: 0.0256 - accuracy: 0.9948 - val_loss: 0.0064 - val_accuracy: 1.0000\n",
      "Epoch 7/20\n",
      "48/48 [==============================] - 21s 428ms/step - loss: 0.0210 - accuracy: 0.9961 - val_loss: 0.0050 - val_accuracy: 1.0000\n",
      "Epoch 8/20\n",
      "48/48 [==============================] - 21s 431ms/step - loss: 0.0130 - accuracy: 0.9993 - val_loss: 0.0038 - val_accuracy: 1.0000\n",
      "Epoch 9/20\n",
      "48/48 [==============================] - 21s 440ms/step - loss: 0.0174 - accuracy: 0.9974 - val_loss: 0.0034 - val_accuracy: 1.0000\n",
      "Epoch 10/20\n",
      "48/48 [==============================] - 21s 437ms/step - loss: 0.0173 - accuracy: 0.9967 - val_loss: 0.0032 - val_accuracy: 1.0000\n",
      "Epoch 11/20\n",
      "48/48 [==============================] - 19s 391ms/step - loss: 0.0181 - accuracy: 0.9961 - val_loss: 0.0025 - val_accuracy: 1.0000\n",
      "Epoch 12/20\n",
      "48/48 [==============================] - 18s 383ms/step - loss: 0.0089 - accuracy: 0.9993 - val_loss: 0.0021 - val_accuracy: 1.0000\n",
      "Epoch 13/20\n",
      "48/48 [==============================] - 19s 384ms/step - loss: 0.0099 - accuracy: 0.9980 - val_loss: 0.0019 - val_accuracy: 1.0000\n",
      "Epoch 14/20\n",
      "48/48 [==============================] - 18s 379ms/step - loss: 0.0100 - accuracy: 0.9980 - val_loss: 0.0017 - val_accuracy: 1.0000\n",
      "Epoch 15/20\n",
      "48/48 [==============================] - 18s 380ms/step - loss: 0.0092 - accuracy: 0.9987 - val_loss: 0.0013 - val_accuracy: 1.0000\n",
      "Epoch 16/20\n",
      "48/48 [==============================] - 18s 384ms/step - loss: 0.0113 - accuracy: 0.9967 - val_loss: 0.0013 - val_accuracy: 1.0000\n",
      "Epoch 17/20\n",
      "48/48 [==============================] - 19s 386ms/step - loss: 0.0084 - accuracy: 0.9967 - val_loss: 0.0012 - val_accuracy: 1.0000\n",
      "Epoch 18/20\n",
      "48/48 [==============================] - 18s 380ms/step - loss: 0.0091 - accuracy: 0.9974 - val_loss: 0.0011 - val_accuracy: 1.0000\n",
      "Epoch 19/20\n",
      "48/48 [==============================] - 18s 382ms/step - loss: 0.0062 - accuracy: 0.9993 - val_loss: 9.6354e-04 - val_accuracy: 1.0000\n",
      "Epoch 20/20\n",
      "48/48 [==============================] - 19s 388ms/step - loss: 0.0053 - accuracy: 0.9987 - val_loss: 8.4344e-04 - val_accuracy: 1.0000\n"
     ]
    }
   ],
   "source": [
    "# Train the head of the network\n",
    "print(\"Training head...\")\n",
    "H = model.fit(\n",
    "    aug.flow(trainX, trainY, batch_size=BS),\n",
    "    steps_per_epoch=len(trainX) // BS,\n",
    "    validation_data=(testX, testY),\n",
    "    validation_steps=len(testX) // BS,\n",
    "    epochs=EPOCHS)"
   ]
  },
  {
   "cell_type": "code",
   "execution_count": 12,
   "id": "01b90759",
   "metadata": {},
   "outputs": [
    {
     "name": "stdout",
     "output_type": "stream",
     "text": [
      "Evaluating network...\n"
     ]
    }
   ],
   "source": [
    "# Make predictions on the testing set\n",
    "print(\"Evaluating network...\")\n",
    "predIdxs = model.predict(testX, batch_size=BS)"
   ]
  },
  {
   "cell_type": "code",
   "execution_count": 13,
   "id": "5f6fefef",
   "metadata": {},
   "outputs": [],
   "source": [
    "# For each image in the testing set we need to find the index of the\n",
    "# label with corresponding largest predicted probability\n",
    "predIdxs = np.argmax(predIdxs, axis=1)"
   ]
  },
  {
   "cell_type": "code",
   "execution_count": 14,
   "id": "0eed5b03",
   "metadata": {},
   "outputs": [
    {
     "name": "stdout",
     "output_type": "stream",
     "text": [
      "                   precision    recall  f1-score   support\n",
      "\n",
      "   With_Face_Mask       1.00      1.00      1.00       190\n",
      "Without_Face_Mask       1.00      1.00      1.00       200\n",
      "\n",
      "         accuracy                           1.00       390\n",
      "        macro avg       1.00      1.00      1.00       390\n",
      "     weighted avg       1.00      1.00      1.00       390\n",
      "\n"
     ]
    }
   ],
   "source": [
    "# Show a nicely formatted classification report\n",
    "print(classification_report(testY.argmax(axis=1), predIdxs,\n",
    "    target_names=lb.classes_))"
   ]
  },
  {
   "cell_type": "code",
   "execution_count": 15,
   "id": "83f5ddbb",
   "metadata": {},
   "outputs": [
    {
     "name": "stdout",
     "output_type": "stream",
     "text": [
      "Saving mask detector model...\n"
     ]
    },
    {
     "name": "stderr",
     "output_type": "stream",
     "text": [
      "/home/nat/anaconda3/lib/python3.8/site-packages/tensorflow/python/keras/utils/generic_utils.py:494: CustomMaskWarning: Custom mask layers require a config and must override get_config. When loading, the custom mask layer must be passed to the custom_objects argument.\n",
      "  warnings.warn('Custom mask layers require a config and must override '\n"
     ]
    }
   ],
   "source": [
    "# Serialize the model to disk\n",
    "print(\"Saving mask detector model...\")\n",
    "model.save(\"mask_detector.model\", save_format=\"h5\")"
   ]
  },
  {
   "cell_type": "code",
   "execution_count": 16,
   "id": "89bf5b4b",
   "metadata": {},
   "outputs": [
    {
     "data": {
      "image/png": "[encoded data removed]",
      "text/plain": [
       "<Figure size 432x288 with 1 Axes>"
      ]
     },
     "metadata": {},
     "output_type": "display_data"
    }
   ],
   "source": [
    "# Plot the training loss and accuracy\n",
    "N = EPOCHS\n",
    "plt.style.use(\"ggplot\")\n",
    "plt.figure()\n",
    "plt.plot(np.arange(0, N), H.history[\"loss\"], label=\"train_loss\")\n",
    "plt.plot(np.arange(0, N), H.history[\"val_loss\"], label=\"val_loss\")\n",
    "plt.plot(np.arange(0, N), H.history[\"accuracy\"], label=\"train_acc\")\n",
    "plt.plot(np.arange(0, N), H.history[\"val_accuracy\"], label=\"val_acc\")\n",
    "plt.title(\"Training Loss and Accuracy\")\n",
    "plt.xlabel(\"Epoch #\")\n",
    "plt.ylabel(\"Loss/Accuracy\")\n",
    "plt.legend(loc=\"lower left\")\n",
    "plt.savefig(\"result.png\")"
   ]
  }
 ],
 "metadata": {
  "kernelspec": {
   "display_name": "Python 3",
   "language": "python",
   "name": "python3"
  },
  "language_info": {
   "codemirror_mode": {
    "name": "ipython",
    "version": 3
   },
   "file_extension": ".py",
   "mimetype": "text/x-python",
   "name": "python",
   "nbconvert_exporter": "python",
   "pygments_lexer": "ipython3",
   "version": "3.8.8"
  }
 },
 "nbformat": 4,
 "nbformat_minor": 5
}
