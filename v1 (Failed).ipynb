{
 "cells": [
  {
   "cell_type": "code",
   "execution_count": 1,
   "id": "30ec6f4c",
   "metadata": {},
   "outputs": [],
   "source": [
    "import tensorflow as tf\n",
    "import cv2\n",
    "import os\n",
    "import matplotlib.pyplot as plt\n",
    "import numpy as np"
   ]
  },
  {
   "cell_type": "markdown",
   "id": "3ffdeacd",
   "metadata": {},
   "source": [
    "# Reading images and converting all to array"
   ]
  },
  {
   "cell_type": "code",
   "execution_count": 2,
   "id": "287d28e8",
   "metadata": {},
   "outputs": [],
   "source": [
    "# Initial processing, uncomment on first run\n",
    "\n",
    "training_data = [] # Data array\n",
    "\n",
    "img_size = 224\n",
    "DataSource = \"Dataset/\" # Dataset source\n",
    "Categories = [\"With_Face_Mask\", \"Without_Face_Mask\"] # Categories\n",
    "\n",
    "# Function to loop through and \n",
    "def create_training_data():\n",
    "    for category in Categories:\n",
    "        path = os.path.join(DataSource, category)\n",
    "        category_index = Categories.index(category)\n",
    "        for img in os.listdir(path):\n",
    "            try:\n",
    "                img_arr = cv2.imread(os.path.join(path, img))\n",
    "                new_arr = cv2.resize(img_arr, (img_size, img_size)) # Resize image from 1024 x 1024 to 224 x 224\n",
    "                training_data.append([new_arr, category_index]) # Append image data with category label to data array\n",
    "            except Exception as e:\n",
    "                pass\n",
    "        "
   ]
  },
  {
   "cell_type": "code",
   "execution_count": 3,
   "id": "a7bf5691",
   "metadata": {},
   "outputs": [],
   "source": [
    "# Initial processing, uncomment on first run\n",
    "\n",
    "create_training_data()"
   ]
  },
  {
   "cell_type": "code",
   "execution_count": 4,
   "id": "02ef3a6a",
   "metadata": {},
   "outputs": [
    {
     "name": "stdout",
     "output_type": "stream",
     "text": [
      "1950\n"
     ]
    }
   ],
   "source": [
    "print(len(training_data))"
   ]
  },
  {
   "cell_type": "code",
   "execution_count": 5,
   "id": "f822531e",
   "metadata": {},
   "outputs": [],
   "source": [
    "# Initial processing, uncomment on first run\n",
    "\n",
    "import random\n",
    "\n",
    "random.shuffle(training_data) # Shuffle to not let deep learning follow the sequence"
   ]
  },
  {
   "cell_type": "code",
   "execution_count": 6,
   "id": "c702c654",
   "metadata": {},
   "outputs": [],
   "source": [
    "import pickle\n",
    "X = []\n",
    "y = []"
   ]
  },
  {
   "cell_type": "code",
   "execution_count": 7,
   "id": "67bc01de",
   "metadata": {},
   "outputs": [],
   "source": [
    "# Initial processing, uncomment on first run\n",
    "\n",
    "for features, label in training_data:\n",
    "    X.append(features)\n",
    "    y.append(label)\n",
    "\n",
    "X = np.array(X).reshape(-1, img_size, img_size, 3)"
   ]
  },
  {
   "cell_type": "code",
   "execution_count": 8,
   "id": "410407db",
   "metadata": {},
   "outputs": [],
   "source": [
    "# Initial processing, uncomment on first run\n",
    "\n",
    "# Normalize data\n",
    "X = X / 255.0;"
   ]
  },
  {
   "cell_type": "code",
   "execution_count": 9,
   "id": "fb9771e3",
   "metadata": {},
   "outputs": [],
   "source": [
    "# Initial processing, uncomment on first run\n",
    "\n",
    "Y = np.array(y) # Convert list into numpy array"
   ]
  },
  {
   "cell_type": "code",
   "execution_count": 10,
   "id": "fbd454e7",
   "metadata": {},
   "outputs": [],
   "source": [
    "# Initial processing, uncomment on first run\n",
    "\n",
    "# Store data into pickle\n",
    "pickle_out = open(\"X.pickle\", \"wb\")\n",
    "pickle.dump(X, pickle_out)\n",
    "pickle_out.close()\n",
    "\n",
    "pickle_out = open(\"y.pickle\", \"wb\")\n",
    "pickle.dump(Y, pickle_out)\n",
    "pickle_out.close()"
   ]
  },
  {
   "cell_type": "code",
   "execution_count": 11,
   "id": "322ddef9",
   "metadata": {},
   "outputs": [],
   "source": [
    "# Load preprocessed data from pickle\n",
    "pickle_in = open(\"X.pickle\", \"rb\")\n",
    "X = pickle.load(pickle_in)\n",
    "\n",
    "pickle_in = open(\"y.pickle\", \"rb\")\n",
    "Y = pickle.load(pickle_in)"
   ]
  },
  {
   "cell_type": "markdown",
   "id": "523a023e",
   "metadata": {},
   "source": [
    "# Deep learning model for training - Transfer learning"
   ]
  },
  {
   "cell_type": "code",
   "execution_count": 12,
   "id": "9ebf1baf",
   "metadata": {},
   "outputs": [],
   "source": [
    "import tensorflow as tf\n",
    "from tensorflow import keras\n",
    "from tensorflow.keras import layers"
   ]
  },
  {
   "cell_type": "code",
   "execution_count": 13,
   "id": "dda23a5a",
   "metadata": {
    "scrolled": true
   },
   "outputs": [],
   "source": [
    "model = tf.keras.applications.mobilenet.MobileNet() ## Pre-trained model"
   ]
  },
  {
   "cell_type": "markdown",
   "id": "0442511a",
   "metadata": {},
   "source": [
    "# Transfer learning - Tuning, weights will start from the last checkpoint"
   ]
  },
  {
   "cell_type": "code",
   "execution_count": 14,
   "id": "65488f85",
   "metadata": {},
   "outputs": [],
   "source": [
    "base_input = model.layers[0].input"
   ]
  },
  {
   "cell_type": "code",
   "execution_count": 15,
   "id": "32119217",
   "metadata": {},
   "outputs": [],
   "source": [
    "base_output = model.layers[-4].output"
   ]
  },
  {
   "cell_type": "code",
   "execution_count": 16,
   "id": "7d095a2b",
   "metadata": {},
   "outputs": [],
   "source": [
    "flat_layer = layers.Flatten()(base_output)\n",
    "final_output = layers.Dense(1)(flat_layer)\n",
    "final_ouput = layers.Activation('sigmoid')(final_output)"
   ]
  },
  {
   "cell_type": "code",
   "execution_count": 17,
   "id": "bb42d26b",
   "metadata": {},
   "outputs": [],
   "source": [
    "new_model = keras.Model(inputs = base_input, outputs = final_output)"
   ]
  },
  {
   "cell_type": "markdown",
   "id": "1a089b18",
   "metadata": {},
   "source": [
    "# Settings for binary classification (With face mask/Without face mask)"
   ]
  },
  {
   "cell_type": "code",
   "execution_count": 18,
   "id": "3924542f",
   "metadata": {},
   "outputs": [],
   "source": [
    "new_model.compile(loss = \"binary_crossentropy\", optimizer = \"adam\", metrics = [\"accuracy\"])"
   ]
  },
  {
   "cell_type": "code",
   "execution_count": 19,
   "id": "8d6b7c38",
   "metadata": {},
   "outputs": [
    {
     "name": "stdout",
     "output_type": "stream",
     "text": [
      "55/55 [==============================] - 70s 1s/step - loss: 0.2686 - accuracy: 0.9795 - val_loss: 7.9765 - val_accuracy: 0.4769\n"
     ]
    },
    {
     "data": {
      "text/plain": [
       "<tensorflow.python.keras.callbacks.History at 0x7f39086e6df0>"
      ]
     },
     "execution_count": 19,
     "metadata": {},
     "output_type": "execute_result"
    }
   ],
   "source": [
    "new_model.fit(X,Y,epochs = 1,validation_split = 0.1)"
   ]
  },
  {
   "cell_type": "code",
   "execution_count": null,
   "id": "e6c56ccd",
   "metadata": {},
   "outputs": [],
   "source": []
  }
 ],
 "metadata": {
  "kernelspec": {
   "display_name": "Python 3",
   "language": "python",
   "name": "python3"
  },
  "language_info": {
   "codemirror_mode": {
    "name": "ipython",
    "version": 3
   },
   "file_extension": ".py",
   "mimetype": "text/x-python",
   "name": "python",
   "nbconvert_exporter": "python",
   "pygments_lexer": "ipython3",
   "version": "3.8.8"
  }
 },
 "nbformat": 4,
 "nbformat_minor": 5
}
